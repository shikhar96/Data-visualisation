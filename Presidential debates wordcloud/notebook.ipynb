{
  "cells": [
    {
      "cell_type": "code",
      "execution_count": null,
      "metadata": {
        "_cell_guid": "ae181530-cf60-89de-dced-c1eabd4cad24",
        "_uuid": "5f754df01e3a8bd4ef209c73c93bb29700fb3321"
      },
      "outputs": [],
      "source": [
        "# This R environment comes with all of CRAN preinstalled, as well as many other helpful packages\n",
        "# The environment is defined by the kaggle/rstats docker image: https://github.com/kaggle/docker-rstats\n",
        "# For example, here's several helpful packages to load in \n",
        "\n",
        "library(readr) # CSV file I/O, e.g. the read_csv function\n",
        "library(tm)\n",
        "library(RColorBrewer)\n",
        "library(wordcloud) #Importing wordcloud package\n",
        "# Input data files are available in the \"../input/\" directory."
      ]
    },
    {
      "cell_type": "code",
      "execution_count": null,
      "metadata": {
        "_cell_guid": "a7c19009-ab74-c93a-95a4-010a6502207c",
        "_uuid": "1ef0c5aa25d8fccd1ec23161633ab5bf0e09955b"
      },
      "outputs": [],
      "source": [
        "debate <- read.csv('../input/debate.csv', stringsAsFactors=FALSE) #Reading CSV file\n",
        "str(debate)"
      ]
    },
    {
      "cell_type": "code",
      "execution_count": null,
      "metadata": {
        "_cell_guid": "115b44b9-949a-d2d1-299d-7015f63ffa01",
        "_uuid": "b3d22eaae4b3bcc7f5af773a8f095050cdf20906"
      },
      "outputs": [],
      "source": [
        "clinton <- subset(debate, Speaker==\"Clinton\") #Subset where Speaker is Clinton\n",
        "trump <- subset(debate, Speaker==\"Trump\") #Subset where Speaker is Trump\n",
        "str(clinton)\n",
        "str(trump)"
      ]
    },
    {
      "cell_type": "code",
      "execution_count": null,
      "metadata": {
        "_cell_guid": "310297ba-3fd0-6c3d-a883-a816ead8e54c",
        "_uuid": "d0a99d72369e0226b7226b72cd572c8ceebe30ea"
      },
      "outputs": [],
      "source": [
        "clinton <- clinton[-c(1,2,4)] #Removing 'Line', 'Speaker' and 'Date'\n",
        "clinton$Text<-iconv(enc2utf8(clinton$Text),sub=\"byte\")\n",
        "str(clinton)\n",
        "trump <- trump[-c(1,2,4)] #Removing 'Line', 'Speaker' and 'Date'\n",
        "trump$Text<-iconv(enc2utf8(trump$Text),sub=\"byte\")\n",
        "str(trump)"
      ]
    },
    {
      "cell_type": "code",
      "execution_count": null,
      "metadata": {
        "_cell_guid": "cf9d7535-44b4-4b09-b356-4523bcfee91d",
        "_uuid": "54eb590ca246561738bf16aacd4a3a2de833e105"
      },
      "outputs": [],
      "source": [
        "clinton_corpus <- VCorpus(VectorSource(clinton$Text)) #Converting text in dataframe into corpus\n",
        "print(clinton_corpus)\n",
        "as.character(clinton_corpus[[1]])\n",
        "trump_corpus <- VCorpus(VectorSource(trump$Text)) #Converting text in dataframe into corpus\n",
        "print(trump_corpus)\n",
        "as.character(trump_corpus[[1]])"
      ]
    },
    {
      "cell_type": "code",
      "execution_count": null,
      "metadata": {
        "_cell_guid": "e70392e7-bceb-f6a7-25f0-0e33aa3aee4c",
        "_uuid": "841fe1077c2e9b7bc66e9ee3bbf597da4a389775"
      },
      "outputs": [],
      "source": [
        "clinton_clean <- tm_map(clinton_corpus, removeWords, stopwords()) #Removing stopwords\n",
        "clinton_clean <- tm_map(clinton_clean, content_transformer(tolower)) #Converting corpus to lower case\n",
        "clinton_clean <- tm_map(clinton_clean, removeNumbers) #Removing numbers\n",
        "clinton_clean <- tm_map(clinton_clean, removePunctuation) #Removing punctuation\n",
        "clinton_clean <- tm_map(clinton_clean, stripWhitespace) #Removing whitespace\n",
        "as.character(clinton_clean[[1]])"
      ]
    },
    {
      "cell_type": "code",
      "execution_count": null,
      "metadata": {
        "_cell_guid": "503d1f1a-7c70-45a8-9958-ece763ce4dc0",
        "_uuid": "e9571869ba668614daba851a2fc54d4611432f51"
      },
      "outputs": [],
      "source": [
        "trump_clean <- tm_map(trump_corpus, removeWords,stopwords()) #Removing stopwords\n",
        "trump_clean <- tm_map(trump_clean, removeNumbers) #Removing numbers\n",
        "trump_clean <- tm_map(trump_clean, removePunctuation) #Removing punctuation\n",
        "trump_clean <- tm_map(trump_clean, content_transformer(tolower)) #Converting corpus to lower case\n",
        "trump_clean <- tm_map(trump_clean, stripWhitespace) #Removing whitespace\n",
        "as.character(trump_clean[[1]])"
      ]
    },
    {
      "cell_type": "code",
      "execution_count": null,
      "metadata": {
        "_cell_guid": "5b439eef-0e1e-7069-f62b-f29595c429d5",
        "_uuid": "2470cbf42e559edac9c11dd5a7d974238acf27b9"
      },
      "outputs": [],
      "source": [
        "wordcloud(clinton_clean, min.freq=20, random.order=FALSE) #Word cloud with words of minimum frequence 20\n",
        "wordcloud(trump_clean, min.freq=20, random.order=FALSE) #Word cloud with words of minimum frequency 20"
      ]
    }
  ],
  "metadata": {
    "_change_revision": 0,
    "_is_fork": false,
    "kernelspec": {
      "display_name": "R",
      "language": "R",
      "name": "ir"
    },
    "language_info": {
      "codemirror_mode": "r",
      "file_extension": ".r",
      "mimetype": "text/x-r-source",
      "name": "R",
      "pygments_lexer": "r",
      "version": "3.3.3"
    }
  },
  "nbformat": 4,
  "nbformat_minor": 0
}