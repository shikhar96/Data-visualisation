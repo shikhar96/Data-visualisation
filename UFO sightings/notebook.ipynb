{
  "metadata": {
    "kernelspec": {
      "display_name": "Python 3",
      "language": "python",
      "name": "python3"
    },
    "language_info": {
      "mimetype": "text/x-python",
      "nbconvert_exporter": "python",
      "codemirror_mode": {
        "name": "ipython",
        "version": 3
      },
      "name": "python",
      "version": "3.6.1",
      "pygments_lexer": "ipython3",
      "file_extension": ".py"
    }
  },
  "nbformat": 4,
  "cells": [
    {
      "outputs": [],
      "cell_type": "code",
      "execution_count": null,
      "metadata": {
        "_uuid": "fbcf1b4a8310ac188f128aea9a70d2d69914ef28",
        "_cell_guid": "f4f328bd-30e8-40c4-9903-72eaf740b1b6",
        "collapsed": true
      },
      "source": [
        "import numpy as np \n",
        "import csv\n",
        "import matplotlib.pyplot as plt\n",
        "from mpl_toolkits.basemap import Basemap\n",
        "# Input data files are available in the \"../input/\" directory."
      ]
    },
    {
      "outputs": [],
      "cell_type": "code",
      "execution_count": null,
      "metadata": {
        "_uuid": "67f04fdf7c8e1465acef39c4a3552caa97820350"
      },
      "source": [
        "filename = '../input/ufo_sighting_data.csv'\n",
        "lats, lons = [], [] \n",
        "with open(filename) as f:\n",
        "    reader = csv.reader(f)\n",
        "    next(reader)\n",
        "    for row in reader:\n",
        "        try:\n",
        "            lats.append(float(row[9]))\n",
        "            lons.append(float(row[10]))\n",
        "        except ValueError:\n",
        "            next(reader)"
      ]
    },
    {
      "outputs": [],
      "cell_type": "code",
      "execution_count": null,
      "metadata": {
        "_uuid": "0cccf5940befd28e395e8745db444612a0759ff9"
      },
      "source": [
        "plt.figure(figsize=(16,12))   \n",
        "eq_map = Basemap(projection='robin', resolution = 'l', area_thresh = 1000.0,\n",
        "              lat_0=0, lon_0=-130)\n",
        "eq_map.drawcoastlines()\n",
        "eq_map.drawcountries()\n",
        "eq_map.fillcontinents(color = 'gray')\n",
        "eq_map.drawmapboundary()\n",
        "eq_map.drawmeridians(np.arange(0, 360, 30))\n",
        "eq_map.drawparallels(np.arange(-90, 90, 30))\n",
        "x,y = eq_map(lons, lats)\n",
        "eq_map.plot(x, y, 'ro', markersize=2)\n",
        "\n",
        "plt.show()"
      ]
    }
  ],
  "nbformat_minor": 1
}