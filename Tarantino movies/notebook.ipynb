{
  "metadata": {
    "language_info": {
      "mimetype": "text/x-python",
      "file_extension": ".py",
      "name": "python",
      "nbconvert_exporter": "python",
      "pygments_lexer": "ipython3",
      "codemirror_mode": {
        "version": 3,
        "name": "ipython"
      },
      "version": "3.6.1"
    },
    "kernelspec": {
      "display_name": "Python 3",
      "language": "python",
      "name": "python3"
    }
  },
  "cells": [
    {
      "metadata": {
        "_uuid": "78f8c3e1a5564bf29d7e5c6a2b0686aa6f0d1ec8"
      },
      "cell_type": "markdown",
      "source": [
        "Tarantino data\n",
        "\n",
        "This is a data exploration and visualization project to look at the history of violence in Quentin Tarantino's filmography(excluding The Hateful Eight)."
      ]
    },
    {
      "metadata": {
        "_uuid": "606a0728d3f04b33967f2b03d12c905703dbfe99",
        "collapsed": true,
        "_cell_guid": "96e5f7aa-284c-476f-9bdb-ce6a2dadfa32"
      },
      "source": [
        "#importing modules\n",
        "import pandas as pd\n",
        "import numpy as np\n",
        "import matplotlib.pyplot as plt\n",
        "%matplotlib inline"
      ],
      "outputs": [],
      "cell_type": "code",
      "execution_count": 1
    },
    {
      "metadata": {
        "_uuid": "a6422f99ecc0be2a44d0df73efdafad214a9c880"
      },
      "source": [
        "df=pd.read_csv('../input/tarantino.csv') #importing the csv file\n",
        "df.head(10) #checking the top 10 entries in the dataframe"
      ],
      "outputs": [],
      "cell_type": "code",
      "execution_count": 2
    },
    {
      "metadata": {
        "_uuid": "a1a90a38415940c6f1ffd9426c737df6bd2675cf"
      },
      "cell_type": "markdown",
      "source": [
        "Let us check the number of deaths and curses in the span of 7 movies."
      ]
    },
    {
      "metadata": {
        "_uuid": "b4e2d9b1b08c7cf661e612a2bf6fd43c4eca5ae4"
      },
      "source": [
        "len(df)"
      ],
      "outputs": [],
      "cell_type": "code",
      "execution_count": 3
    },
    {
      "metadata": {
        "_uuid": "08ee03c794fff8e99d4a60ccbded07c03924ccba"
      },
      "source": [
        "pd.value_counts(df['type'])"
      ],
      "outputs": [],
      "cell_type": "code",
      "execution_count": 4
    },
    {
      "metadata": {
        "_uuid": "8437cddb47d72e74f7d488df06173838140e5c85"
      },
      "cell_type": "markdown",
      "source": [
        "Right off the bat. As early as 0.4 minutes i.e 24 seconds in!\n",
        "\n",
        "Now let's check which one of his movies is the most Tarantino movie ever."
      ]
    },
    {
      "metadata": {
        "_uuid": "90633beb5f017511e9ea03451673f559d109bd86"
      },
      "source": [
        "Count = pd.value_counts(df['movie'])\n",
        "Count.plot.bar(color='red')"
      ],
      "outputs": [],
      "cell_type": "code",
      "execution_count": 5
    },
    {
      "metadata": {
        "_uuid": "10661b19587537c6fcec9db97cb0668b6a47d9ba"
      },
      "cell_type": "markdown",
      "source": [
        "Clearly, Pulp Fiction takes the cake on being the most Tarantino movie ever.\n",
        "\n",
        "Now let's explore the deaths in his movies."
      ]
    },
    {
      "metadata": {
        "_uuid": "afa375f3115b941730d1589951e6f84657048c78"
      },
      "source": [
        "death=df[df.type=='death']\n",
        "death_count=pd.value_counts(death['movie'])\n",
        "death_count.plot.bar(color='red')"
      ],
      "outputs": [],
      "cell_type": "code",
      "execution_count": 6
    },
    {
      "metadata": {
        "_uuid": "ab64c525357578e361b9a40c218ac7dfb2b1a0ca"
      },
      "cell_type": "markdown",
      "source": [
        "As evident from the bar graph, the revenge and WW2 movies account for the most number of deaths.\n",
        "\n",
        "Now let's look at the swearing part of the movies."
      ]
    },
    {
      "metadata": {
        "_uuid": "b507c6f1706d071400be69080ad68b320a0b970e"
      },
      "source": [
        "word=df[df.type=='word']\n",
        "word_count=pd.value_counts(word['movie'])\n",
        "word_count.plot.bar(color='black')"
      ],
      "outputs": [],
      "cell_type": "code",
      "execution_count": 7
    },
    {
      "metadata": {
        "_uuid": "02b3a8635d9b8109d6250dfbdf4e7d3cb0021a5d"
      },
      "cell_type": "markdown",
      "source": [
        "Tarantino's earlier works included more swearing than his recent projects. As his movies became more mainstream, lesser swear words have been used to get accepted by wider audiences.\n",
        "\n",
        "Now we will look at the different expletives used in his filmography. PS: The part below is totally NSFW."
      ]
    },
    {
      "metadata": {
        "scrolled": true,
        "_uuid": "3cde1193f4ae8ab14c08cc6f2b7287cf6956d16f"
      },
      "source": [
        "pd.value_counts(df['word'])"
      ],
      "outputs": [],
      "cell_type": "code",
      "execution_count": 8
    }
  ],
  "nbformat_minor": 1,
  "nbformat": 4
}