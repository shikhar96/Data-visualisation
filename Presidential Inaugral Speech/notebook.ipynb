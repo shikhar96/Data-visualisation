{
  "cells": [
    {
      "cell_type": "code",
      "execution_count": null,
      "metadata": {
        "_cell_guid": "ca0806b8-f647-a328-7d95-886ec45a5127",
        "_uuid": "33110a3fb7159d607f22eb65538acd0a70cf06eb"
      },
      "outputs": [],
      "source": [
        "# This R environment comes with all of CRAN preinstalled, as well as many other helpful packages\n",
        "# The environment is defined by the kaggle/rstats docker image: https://github.com/kaggle/docker-rstats\n",
        "# For example, here's several helpful packages to load in \n",
        "\n",
        "library(ggplot2) # Data visualization\n",
        "library(readr) # CSV file I/O, e.g. the read_csv function\n",
        "library(tm) \n",
        "library(wordcloud) # To create the wordcloud\n",
        "# Input data files are available in the \"../input/\" directory.\n",
        "# For example, running this (by clicking run or pressing Shift+Enter) will list the files in the input directory\n",
        "\n",
        "system(\"ls ../input\")\n",
        "\n",
        "# Any results you write to the current directory are saved as output."
      ]
    },
    {
      "cell_type": "code",
      "execution_count": null,
      "metadata": {
        "_cell_guid": "c4a6ca96-a670-6749-3d7e-923a9e2a0400",
        "_uuid": "aa48a8fd1bb54ab602a1a41caa8b446a2386cc26"
      },
      "outputs": [],
      "source": [
        "speech <- read.csv(\"../input/inaug_speeches.csv\", stringsAsFactors = FALSE)\n",
        "str(speech)"
      ]
    },
    {
      "cell_type": "code",
      "execution_count": null,
      "metadata": {
        "_cell_guid": "a50cc6cb-1f39-4b5e-9dcb-0fd1b441d218",
        "_uuid": "224777f8e739bfec3344f4bde37465c7323faccd"
      },
      "outputs": [],
      "source": [
        "speech <- speech[-c(1,2,3,4)] #Removing rows 1,2,3,4 and 5\n",
        "str(speech)"
      ]
    },
    {
      "cell_type": "code",
      "execution_count": null,
      "metadata": {
        "_cell_guid": "b2f16f7a-cb6c-1d62-4cf3-26a3123e9806",
        "_uuid": "5765c8f365e519e5076dcf0fcd209ab418de372c"
      },
      "outputs": [],
      "source": [
        "speech_corpus <- VCorpus(VectorSource(speech$text)) #Creating a corpus of text\n",
        "print(speech_corpus)\n",
        "as.character(speech_corpus[[1]])"
      ]
    },
    {
      "cell_type": "code",
      "execution_count": null,
      "metadata": {
        "_cell_guid": "8cdd3a7b-53c5-9ac3-ad00-cdf724b6949b",
        "_uuid": "68433a118041b2833588b2dc30d8f3cf05f5b0ce"
      },
      "outputs": [],
      "source": [
        "corpus_clean <- tm_map(speech_corpus, removeWords, stopwords()) #Removing words such as 'and', 'but', 'the', etc.\n",
        "corpus_clean <- tm_map(corpus_clean, content_transformer(tolower)) #Transforming string to lower case\n",
        "corpus_clean <- tm_map(corpus_clean, removeNumbers) #Removing numbers\n",
        "corpus_clean <- tm_map(corpus_clean, removePunctuation) #Removing punctuation marks\n",
        "corpus_clean <- tm_map(corpus_clean, stripWhitespace) #Removing whitespace left after removing numbers, words, etc.\n",
        "as.character(corpus_clean[[1]])"
      ]
    },
    {
      "cell_type": "code",
      "execution_count": null,
      "metadata": {
        "_cell_guid": "0c3a88a0-1b3d-6ae5-f849-35dcec94118c",
        "_uuid": "afdf7ba3094608edefb3724a0df7a9bb009e726a"
      },
      "outputs": [],
      "source": [
        "wordcloud(corpus_clean, min.freq=75, random.order = FALSE) #Creating a wordcloud with words of minimum frequency 75"
      ]
    }
  ],
  "metadata": {
    "_change_revision": 0,
    "_is_fork": false,
    "kernelspec": {
      "display_name": "R",
      "language": "R",
      "name": "ir"
    },
    "language_info": {
      "codemirror_mode": "r",
      "file_extension": ".r",
      "mimetype": "text/x-r-source",
      "name": "R",
      "pygments_lexer": "r",
      "version": "3.3.3"
    }
  },
  "nbformat": 4,
  "nbformat_minor": 0
}